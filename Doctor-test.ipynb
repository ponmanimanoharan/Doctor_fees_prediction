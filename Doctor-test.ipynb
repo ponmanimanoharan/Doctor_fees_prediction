{
 "cells": [
  {
   "cell_type": "markdown",
   "metadata": {},
   "source": [
    "#### Abstract : Predict the doctor fees\n"
   ]
  },
  {
   "cell_type": "markdown",
   "metadata": {},
   "source": [
    "# Import Libraries and dataset"
   ]
  },
  {
   "cell_type": "code",
   "execution_count": null,
   "metadata": {},
   "outputs": [],
   "source": [
    "# importing the libraries\n",
    "import numpy as np\n",
    "import pandas as pd\n",
    "import sklearn\n",
    "import seaborn as sns\n",
    "import matplotlib.pyplot as plt\n",
    "\n",
    "# importing the warnings\n",
    "import warnings\n",
    "warnings.filterwarnings(\"ignore\")"
   ]
  },
  {
   "cell_type": "code",
   "execution_count": null,
   "metadata": {},
   "outputs": [],
   "source": [
    "#import the dataset\n",
    "doctor = pd.read_excel(\"Final_Test.xlsx\")"
   ]
  },
  {
   "cell_type": "code",
   "execution_count": null,
   "metadata": {},
   "outputs": [],
   "source": [
    "#view the first five records\n",
    "doctor.head()"
   ]
  },
  {
   "cell_type": "markdown",
   "metadata": {},
   "source": [
    "### Observation:\n",
    "- There are 7 columns and all the independent variables of type object\n",
    "- The columns are mixed with different forms of data "
   ]
  },
  {
   "cell_type": "code",
   "execution_count": null,
   "metadata": {},
   "outputs": [],
   "source": [
    "#checking the shape of data\n",
    "doctor.shape"
   ]
  },
  {
   "cell_type": "markdown",
   "metadata": {},
   "source": [
    "### There are 5961 records and 7 columns\n",
    "- After proper EDA and Data Cleaning the number of records and columns will change."
   ]
  },
  {
   "cell_type": "code",
   "execution_count": null,
   "metadata": {},
   "outputs": [],
   "source": [
    "# Checking the general information \n",
    "doctor.info()"
   ]
  },
  {
   "cell_type": "markdown",
   "metadata": {},
   "source": [
    "### Observation\n",
    "\n",
    "- There are null values in rating column\n",
    "- There are null values in Miscellaneous_info\n",
    "\n",
    "#### Fees - The Fees column is the target but the values seems to be discrete.\n",
    "- All the independent variables are categorical, therefore supervised/classification model will be selected."
   ]
  },
  {
   "cell_type": "markdown",
   "metadata": {},
   "source": [
    "# Exploratory Data Analysis and Data Cleaning"
   ]
  },
  {
   "cell_type": "code",
   "execution_count": null,
   "metadata": {},
   "outputs": [],
   "source": [
    "#check for null values\n",
    "doctor.isnull().sum()"
   ]
  },
  {
   "cell_type": "code",
   "execution_count": null,
   "metadata": {},
   "outputs": [],
   "source": [
    "# heatmap to inspect null values\n",
    "sns.heatmap(doctor.isnull())"
   ]
  },
  {
   "cell_type": "markdown",
   "metadata": {},
   "source": [
    "###### The percentage of data missing in Rating is 55.4% - cannot drop rows - simple imputer\n",
    "###### The percentage of data missing in place is  4.2%  - can drop rows  - dropna\n",
    "###### the percent of data missing in miscellaneous_info is 44% - cannot drop row - simple imputer"
   ]
  },
  {
   "cell_type": "markdown",
   "metadata": {},
   "source": [
    "##### split each column to get clear understanding"
   ]
  },
  {
   "cell_type": "code",
   "execution_count": null,
   "metadata": {},
   "outputs": [],
   "source": [
    "# simple imputer to remove null values\n",
    "from sklearn.impute import SimpleImputer\n",
    "imp = SimpleImputer(strategy = \"most_frequent\")\n",
    "doctor[\"Rating\"] =imp.fit_transform(doctor[\"Rating\"].values.reshape(-1,1))\n",
    "doctor[\"Miscellaneous_Info\"] =imp.fit_transform(doctor[\"Miscellaneous_Info\"].values.reshape(-1,1))"
   ]
  },
  {
   "cell_type": "code",
   "execution_count": null,
   "metadata": {},
   "outputs": [],
   "source": [
    "doctor.dropna(inplace = True)"
   ]
  },
  {
   "cell_type": "code",
   "execution_count": null,
   "metadata": {},
   "outputs": [],
   "source": [
    "doctor.shape"
   ]
  },
  {
   "cell_type": "code",
   "execution_count": null,
   "metadata": {},
   "outputs": [],
   "source": [
    "doctor.isnull().sum()"
   ]
  },
  {
   "cell_type": "markdown",
   "metadata": {},
   "source": [
    "- Null values removed"
   ]
  },
  {
   "cell_type": "markdown",
   "metadata": {},
   "source": [
    "##### Inspecting Each column seperately"
   ]
  },
  {
   "cell_type": "markdown",
   "metadata": {},
   "source": [
    "## Quaification"
   ]
  },
  {
   "cell_type": "code",
   "execution_count": null,
   "metadata": {},
   "outputs": [],
   "source": [
    "qualification =doctor[[\"Qualification\"]].copy()"
   ]
  },
  {
   "cell_type": "code",
   "execution_count": null,
   "metadata": {},
   "outputs": [],
   "source": [
    "qualification"
   ]
  },
  {
   "cell_type": "code",
   "execution_count": null,
   "metadata": {},
   "outputs": [],
   "source": [
    " qualification[\"Qualification\"] = qualification[\"Qualification\"].str.replace(\",\", \" \").str.replace(\"-\", \"\")\n",
    "\n",
    "remove = [\"'\",\"/\",\"(\",\")\",\"&\",\".\",\"smile\",\"Year\",\"In\",\"in\",\"And\",\"AND\",\"and\",'VD','FAMS','Fellowship','of','the','Doctor','Science','Academy','Royal','College','Post', 'Graduate', 'Diploma','Crown','Bridge']\n",
    "\n",
    "for r in remove:\n",
    "    qualification[\"Qualification\"] = qualification[\"Qualification\"].str.replace(r, \"\")"
   ]
  },
  {
   "cell_type": "code",
   "execution_count": null,
   "metadata": {},
   "outputs": [],
   "source": [
    "qualification"
   ]
  },
  {
   "cell_type": "code",
   "execution_count": null,
   "metadata": {},
   "outputs": [],
   "source": [
    "#spliting the column\n",
    "quali = qualification.Qualification.str.split().tolist()"
   ]
  },
  {
   "cell_type": "code",
   "execution_count": null,
   "metadata": {},
   "outputs": [],
   "source": [
    "quali"
   ]
  },
  {
   "cell_type": "code",
   "execution_count": null,
   "metadata": {},
   "outputs": [],
   "source": [
    "#create the dataframe with column\n",
    "df_quali = pd.DataFrame(quali)"
   ]
  },
  {
   "cell_type": "code",
   "execution_count": null,
   "metadata": {},
   "outputs": [],
   "source": [
    "df_quali"
   ]
  },
  {
   "cell_type": "code",
   "execution_count": null,
   "metadata": {},
   "outputs": [],
   "source": [
    "df_quali = df_quali[[0,1,2]].copy()"
   ]
  },
  {
   "cell_type": "code",
   "execution_count": null,
   "metadata": {},
   "outputs": [],
   "source": [
    "#Selecting the first three columns\n",
    "df_quali"
   ]
  },
  {
   "cell_type": "code",
   "execution_count": null,
   "metadata": {},
   "outputs": [],
   "source": [
    "#rename first three columns\n",
    "\n",
    "df_quali.rename(columns ={0 : \"UG\", 1:\"PG\", 2:\"Specialization\"}, inplace=True)"
   ]
  },
  {
   "cell_type": "code",
   "execution_count": null,
   "metadata": {},
   "outputs": [],
   "source": [
    "df_quali"
   ]
  },
  {
   "cell_type": "code",
   "execution_count": null,
   "metadata": {},
   "outputs": [],
   "source": [
    "df_quali.isnull().sum()"
   ]
  },
  {
   "cell_type": "code",
   "execution_count": null,
   "metadata": {},
   "outputs": [],
   "source": [
    "df_quali.shape"
   ]
  },
  {
   "cell_type": "code",
   "execution_count": null,
   "metadata": {},
   "outputs": [],
   "source": [
    "print(df_quali[\"UG\"].unique())\n"
   ]
  },
  {
   "cell_type": "code",
   "execution_count": null,
   "metadata": {},
   "outputs": [],
   "source": [
    "df_quali[\"UG\"].value_counts()\n"
   ]
  },
  {
   "cell_type": "code",
   "execution_count": null,
   "metadata": {},
   "outputs": [],
   "source": [
    "ug = ['BHMS', 'BAMS', 'MBBS', 'BSc', 'BDS', 'MDS', 'Dermatology', 'DM', 'MD', 'MDSOral'\n",
    " ,'PhD', 'MRCPS', 'MS', 'DDVL', 'DHMS', 'GCEH', 'Healthcare', 'DNB',\n",
    " 'Certification' ,'Laryngology', 'FAGE', 'Aestic', 'BSAM', 'Family', 'FNB'\n",
    ", 'Dermotology' ,'Certificate' ,'Certified','LCEH', 'Homeopathic', 'Child'\n",
    ", 'Otorholaryngology',  'MSc' ,  'Medical' ,'FCPS', 'GAMS',\n",
    " 'BUMS' ,'Diet', 'MBA',  'PG', 'POST', 'Oral', 'Diabetology', 'MCh', 'DDV',\n",
    "  'BEMS', 'MRCS', 'Periodontics', 'MA', 'MPH', 'MRCPCH', 'FRCS', 'BAc',\n",
    " 'BIMS', 'Trichology',  'Ayurvedic', 'DHM',  'Diabetic',\n",
    " 'MRCGP' ,'Naturopathy', 'MRCP', 'CGO', 'PGD', 'DNHE', 'FRGUHS' , 'FRCP',\n",
    " 'Clical', 'Cochlear' ,'Masters' ,'PDCC' ,'FFDRCSI', 'MDDVL' ,'DGO']"
   ]
  },
  {
   "cell_type": "code",
   "execution_count": null,
   "metadata": {},
   "outputs": [],
   "source": [
    "df = df_quali.loc[df_quali[\"UG\"].isin(ug)]"
   ]
  },
  {
   "cell_type": "code",
   "execution_count": null,
   "metadata": {},
   "outputs": [],
   "source": [
    "df"
   ]
  },
  {
   "cell_type": "code",
   "execution_count": null,
   "metadata": {},
   "outputs": [],
   "source": [
    "df[\"UG\"].value_counts()"
   ]
  },
  {
   "cell_type": "code",
   "execution_count": null,
   "metadata": {},
   "outputs": [],
   "source": [
    "df.shape"
   ]
  },
  {
   "cell_type": "code",
   "execution_count": null,
   "metadata": {},
   "outputs": [],
   "source": [
    "Qualification = df[[\"UG\"]].copy()"
   ]
  },
  {
   "cell_type": "code",
   "execution_count": null,
   "metadata": {},
   "outputs": [],
   "source": [
    "Qualification "
   ]
  },
  {
   "cell_type": "markdown",
   "metadata": {},
   "source": [
    "### Experience column"
   ]
  },
  {
   "cell_type": "code",
   "execution_count": null,
   "metadata": {},
   "outputs": [],
   "source": [
    "experience = doctor[[\"Experience\"]].copy()\n",
    "experience = experience.Experience.str.split().tolist()\n",
    "df_exp = pd.DataFrame(experience, columns=[\"Experience\", 0, 1])\n",
    "df_exp = df_exp[[\"Experience\"]].copy()\n",
    "df_exp[\"Experience\"]= df_exp[\"Experience\"].astype(\"int\")"
   ]
  },
  {
   "cell_type": "code",
   "execution_count": null,
   "metadata": {},
   "outputs": [],
   "source": [
    "df_exp.head()"
   ]
  },
  {
   "cell_type": "markdown",
   "metadata": {},
   "source": [
    "### Rating Column"
   ]
  },
  {
   "cell_type": "code",
   "execution_count": null,
   "metadata": {},
   "outputs": [],
   "source": [
    "rating = doctor[[\"Rating\"]].copy()\n",
    "rating[\"Rating\"] = rating[\"Rating\"].str.replace(\"%\", \"\")\n",
    "rating = rating.Rating.str.split().tolist()\n",
    "\n",
    "df_rate = pd.DataFrame(rating, columns=[\"Rating\"])\n",
    "df_rate[\"Rating\"] = df_rate[\"Rating\"].astype(int)\n",
    "df_rate.head()"
   ]
  },
  {
   "cell_type": "markdown",
   "metadata": {},
   "source": [
    "### Place column"
   ]
  },
  {
   "cell_type": "code",
   "execution_count": null,
   "metadata": {},
   "outputs": [],
   "source": [
    "place = doctor[[\"Place\"]].copy()\n",
    "place[\"Place\"] = place[\"Place\"].str.replace(\" \", \"\")\n",
    "place[\"Place\"] = place[\"Place\"].str.replace(\",\", \" \").str.replace(\"-\", \"\")\n",
    "place = place.Place.str.split().tolist()\n",
    "df_place = pd.DataFrame(place)\n",
    "print(df_place[1].unique())\n",
    "df_place[1] = df_place[1].replace(\"Sector5\", \"Delhi\")\n",
    "df_place = df_place[[0,1]].copy()\n",
    "df_place.rename(columns = {0:\"Area\", 1:\"City\"}, inplace=True)\n",
    "print(df_place.head())\n",
    "place = df_place[[\"City\"]].copy()"
   ]
  },
  {
   "cell_type": "code",
   "execution_count": null,
   "metadata": {},
   "outputs": [],
   "source": [
    "df_place[\"City\"].unique()"
   ]
  },
  {
   "cell_type": "code",
   "execution_count": null,
   "metadata": {},
   "outputs": [],
   "source": [
    "place.head()"
   ]
  },
  {
   "cell_type": "code",
   "execution_count": null,
   "metadata": {},
   "outputs": [],
   "source": [
    "place.isnull().sum()"
   ]
  },
  {
   "cell_type": "code",
   "execution_count": null,
   "metadata": {},
   "outputs": [],
   "source": [
    "place  = place.fillna(df_place.mode().iloc[0])"
   ]
  },
  {
   "cell_type": "markdown",
   "metadata": {},
   "source": [
    "#### Miscellaneous_Info"
   ]
  },
  {
   "cell_type": "code",
   "execution_count": null,
   "metadata": {},
   "outputs": [],
   "source": [
    "M_info  = doctor[[\"Miscellaneous_Info\"]]\n",
    "M_info = M_info.Miscellaneous_Info.str.split().tolist()\n",
    "df_m = pd.DataFrame(M_info)\n",
    "df_m = df_m[[0]].copy()\n",
    "df_m.rename(columns = {0:\"comments\"}, inplace = True)\n",
    "c = df_m[\"comments\"]\n",
    "# using regex to find the comments\n",
    "c.replace(r'^[0-9][0-9]%', \"Unknown\", regex=True, inplace=True)\n",
    "c.replace(r'^[0-9]$', \"Unknown\", regex=True, inplace=True)\n",
    "c.replace(r'^[7]%', \"Unknown\", regex=True, inplace=True)\n",
    "c.replace(\"100%\", \"Unknown\", inplace=True)"
   ]
  },
  {
   "cell_type": "code",
   "execution_count": null,
   "metadata": {},
   "outputs": [],
   "source": [
    "c.unique()"
   ]
  },
  {
   "cell_type": "code",
   "execution_count": null,
   "metadata": {},
   "outputs": [],
   "source": [
    "df_mis = c.to_frame()\n"
   ]
  },
  {
   "cell_type": "code",
   "execution_count": null,
   "metadata": {},
   "outputs": [],
   "source": [
    "profile = doctor[['Profile']].copy()"
   ]
  },
  {
   "cell_type": "markdown",
   "metadata": {},
   "source": [
    "#### Column to be joined using new dataframes\n",
    "- Qualification \n",
    "- Place\n",
    "- df_exp\n",
    "- df_mis\n",
    "- df_Rate\n",
    "- Profile\n"
   ]
  },
  {
   "cell_type": "markdown",
   "metadata": {},
   "source": [
    "#### concat the dataframes one at a time"
   ]
  },
  {
   "cell_type": "code",
   "execution_count": null,
   "metadata": {},
   "outputs": [],
   "source": [
    "doc = pd.DataFrame()\n",
    "li = [Qualification,place,df_exp,df_mis,profile]\n",
    "\n",
    "doc = pd.concat([Qualification,place], axis=1, join=\"inner\")"
   ]
  },
  {
   "cell_type": "code",
   "execution_count": null,
   "metadata": {},
   "outputs": [],
   "source": [
    "doc"
   ]
  },
  {
   "cell_type": "code",
   "execution_count": null,
   "metadata": {},
   "outputs": [],
   "source": [
    "doc_one = pd.concat([doc,df_exp], axis=1, join=\"inner\")"
   ]
  },
  {
   "cell_type": "code",
   "execution_count": null,
   "metadata": {},
   "outputs": [],
   "source": [
    "print(doc_one.shape)\n",
    "doc_one.head()"
   ]
  },
  {
   "cell_type": "code",
   "execution_count": null,
   "metadata": {},
   "outputs": [],
   "source": [
    "doc_two = pd.concat([doc_one,df_mis], axis=1, join=\"inner\")"
   ]
  },
  {
   "cell_type": "code",
   "execution_count": null,
   "metadata": {},
   "outputs": [],
   "source": [
    "doc_two"
   ]
  },
  {
   "cell_type": "code",
   "execution_count": null,
   "metadata": {},
   "outputs": [],
   "source": [
    "Doc_the = pd.concat([doc_two,profile], axis=1, join=\"inner\")"
   ]
  },
  {
   "cell_type": "code",
   "execution_count": null,
   "metadata": {},
   "outputs": [],
   "source": [
    "Doc_the.head()"
   ]
  },
  {
   "cell_type": "code",
   "execution_count": null,
   "metadata": {},
   "outputs": [],
   "source": [
    "Doc =  pd.concat([Doc_the,df_rate], axis=1, join=\"inner\")"
   ]
  },
  {
   "cell_type": "code",
   "execution_count": null,
   "metadata": {},
   "outputs": [],
   "source": [
    "Doc.head()"
   ]
  },
  {
   "cell_type": "markdown",
   "metadata": {},
   "source": [
    "# Univariate analysis"
   ]
  },
  {
   "cell_type": "code",
   "execution_count": null,
   "metadata": {},
   "outputs": [],
   "source": [
    "#count plot for categorical variable \n",
    "fig_size = (20,15)\n",
    "fig, ax = plt.subplots(figsize = fig_size)\n",
    "sns.countplot(data=Doc, x=\"UG\")\n",
    "plt.xticks(rotation=90)\n",
    "plt.yticks(fontsize=50)\n",
    "plt.xlabel(\"UG\",fontsize=80)\n",
    "plt.ylabel(\"Count\",fontsize=80)\n",
    "plt.title(\"UG count\", fontsize = 80)\n",
    "Doc[\"UG\"].value_counts()"
   ]
  },
  {
   "cell_type": "markdown",
   "metadata": {},
   "source": [
    "### MBBS seems to have the Highest count in qualification"
   ]
  },
  {
   "cell_type": "code",
   "execution_count": null,
   "metadata": {},
   "outputs": [],
   "source": [
    "#count plot for categorical variable \n",
    "fig_size = (25,15)\n",
    "fig, ax = plt.subplots(figsize = fig_size)\n",
    "sns.countplot(data=Doc, x=\"City\")\n",
    "plt.xticks(rotation=90, fontsize=50)\n",
    "plt.yticks(fontsize=50)\n",
    "plt.xlabel(\"City\",fontsize=50)\n",
    "plt.ylabel(\"Count\",fontsize=50)\n",
    "plt.title(\"City count\", fontsize = 50)\n",
    "Doc[\"City\"].value_counts()"
   ]
  },
  {
   "cell_type": "markdown",
   "metadata": {},
   "source": [
    "#### The Banglore population count is highest of all, followed by mumbai at 1207, delhi at 1175, Hyderbad at 948 and so on"
   ]
  },
  {
   "cell_type": "code",
   "execution_count": null,
   "metadata": {},
   "outputs": [],
   "source": [
    "#count plot for categorical variable \n",
    "fig_size = (35,30)\n",
    "fig, ax = plt.subplots(figsize = fig_size)\n",
    "sns.countplot(data=Doc, x=\"Profile\")\n",
    "plt.xticks(rotation=90, fontsize=50)\n",
    "plt.yticks(fontsize=50)\n",
    "plt.xlabel(\"Profile\",fontsize=50)\n",
    "plt.ylabel(\"Count\",fontsize=50)\n",
    "plt.title(\"Profile count\", fontsize = 50)\n",
    "Doc[\"Profile\"].value_counts()"
   ]
  },
  {
   "cell_type": "markdown",
   "metadata": {},
   "source": [
    "### dentist have the highest count of all followed by General medicine and deramtologists. ENT specialist have the lowest count"
   ]
  },
  {
   "cell_type": "code",
   "execution_count": null,
   "metadata": {},
   "outputs": [],
   "source": [
    "#count plot for categorical variable \n",
    "fig_size = (35,30)\n",
    "fig, ax = plt.subplots(figsize = fig_size)\n",
    "sns.countplot(data=Doc, x=\"Rating\")\n",
    "plt.xticks(rotation=90, fontsize=50)\n",
    "plt.yticks(fontsize=50)\n",
    "plt.xlabel(\"Rating\",fontsize=50)\n",
    "plt.ylabel(\"Count\",fontsize=50)\n",
    "plt.title(\"Rating count\", fontsize = 50)\n",
    "Doc[\"Rating\"].value_counts()"
   ]
  },
  {
   "cell_type": "markdown",
   "metadata": {},
   "source": [
    "#### Most of the Doctors are rated to give 100% satisfaction and service "
   ]
  },
  {
   "cell_type": "markdown",
   "metadata": {},
   "source": [
    "# Multivariate Analysis"
   ]
  },
  {
   "cell_type": "markdown",
   "metadata": {},
   "source": [
    "## Summary statistics"
   ]
  },
  {
   "cell_type": "code",
   "execution_count": null,
   "metadata": {},
   "outputs": [],
   "source": [
    "Doc.describe()"
   ]
  },
  {
   "cell_type": "markdown",
   "metadata": {},
   "source": [
    "###  Since other independent variables are categorical they are not included in the summary stat\n",
    "- huge difference in the range  - needs scalling\n",
    "- huge difference between mean and standard deviation"
   ]
  },
  {
   "cell_type": "markdown",
   "metadata": {},
   "source": [
    "### Correlation Matrix"
   ]
  },
  {
   "cell_type": "code",
   "execution_count": null,
   "metadata": {},
   "outputs": [],
   "source": [
    "correlation = Doc.corr()\n",
    "plt.figure(figsize = [15,10])\n",
    "sns.heatmap(correlation, annot=True)\n",
    "plt.title(\"Correlation Matric Doctor fees prediction\")\n",
    "plt.show()"
   ]
  },
  {
   "cell_type": "markdown",
   "metadata": {},
   "source": [
    "### Label encoding"
   ]
  },
  {
   "cell_type": "code",
   "execution_count": null,
   "metadata": {},
   "outputs": [],
   "source": [
    "# import the labelencoder\n",
    "from sklearn.preprocessing import LabelEncoder\n",
    "\n",
    "# initialize Labelencoder\n",
    "LE = LabelEncoder()\n",
    "\n",
    "Doc[\"UG\"] = LE.fit_transform(Doc[\"UG\"])\n",
    "    "
   ]
  },
  {
   "cell_type": "code",
   "execution_count": null,
   "metadata": {},
   "outputs": [],
   "source": [
    "Doc"
   ]
  },
  {
   "cell_type": "markdown",
   "metadata": {},
   "source": [
    "# ONE HOT ENCODING"
   ]
  },
  {
   "cell_type": "code",
   "execution_count": null,
   "metadata": {},
   "outputs": [],
   "source": [
    "#Introducing one hot encoder to convert categorical feature \n",
    "from sklearn.preprocessing import OneHotEncoder\n",
    "ohe = OneHotEncoder()\n",
    "toen = [\"City\", \"Profile\"]\n",
    "\n",
    "new2 = ohe.fit_transform(Doc[\"City\"].values.reshape(-1,1)).toarray()\n",
    "new_df2 = pd.DataFrame(new2)\n",
    "\n",
    "new = ohe.fit_transform(Doc[\"Profile\"].values.reshape(-1,1)).toarray()\n",
    "new_df = pd.DataFrame(new, columns = [np.unique(Doc[\"Profile\"])])\n",
    "\n"
   ]
  },
  {
   "cell_type": "code",
   "execution_count": null,
   "metadata": {},
   "outputs": [],
   "source": [
    "new_df"
   ]
  },
  {
   "cell_type": "code",
   "execution_count": null,
   "metadata": {},
   "outputs": [],
   "source": [
    "#concat encoded profile with data frame\n",
    "Doc = pd.concat([Doc, new_df], join = \"inner\", axis = 1)"
   ]
  },
  {
   "cell_type": "code",
   "execution_count": null,
   "metadata": {},
   "outputs": [],
   "source": [
    "Doc.head()\n"
   ]
  },
  {
   "cell_type": "markdown",
   "metadata": {},
   "source": [
    "- successfully joined"
   ]
  },
  {
   "cell_type": "code",
   "execution_count": null,
   "metadata": {},
   "outputs": [],
   "source": [
    "#drop the orginal column\n",
    "Doc = Doc.drop(\"Profile\", axis=1)"
   ]
  },
  {
   "cell_type": "code",
   "execution_count": null,
   "metadata": {},
   "outputs": [],
   "source": [
    "Doc.head()"
   ]
  },
  {
   "cell_type": "markdown",
   "metadata": {},
   "source": [
    "- Succefully dropped the profile column"
   ]
  },
  {
   "cell_type": "code",
   "execution_count": null,
   "metadata": {},
   "outputs": [],
   "source": [
    "#join encoded city column with Doc\n",
    "Doc = pd.concat([Doc, new_df2], join = \"inner\", axis = 1)"
   ]
  },
  {
   "cell_type": "code",
   "execution_count": null,
   "metadata": {
    "scrolled": true
   },
   "outputs": [],
   "source": [
    "Doc.head()"
   ]
  },
  {
   "cell_type": "markdown",
   "metadata": {},
   "source": [
    "- columns added"
   ]
  },
  {
   "cell_type": "code",
   "execution_count": null,
   "metadata": {},
   "outputs": [],
   "source": [
    "#drop city\n",
    "Doc "
   ]
  },
  {
   "cell_type": "code",
   "execution_count": null,
   "metadata": {},
   "outputs": [],
   "source": [
    "Doc = Doc.drop(\"City\", axis=1)"
   ]
  },
  {
   "cell_type": "markdown",
   "metadata": {},
   "source": [
    "- dropped city column"
   ]
  },
  {
   "cell_type": "code",
   "execution_count": null,
   "metadata": {},
   "outputs": [],
   "source": [
    "Doc.head()"
   ]
  },
  {
   "cell_type": "markdown",
   "metadata": {},
   "source": [
    "#### Handling Rating column"
   ]
  },
  {
   "cell_type": "markdown",
   "metadata": {},
   "source": [
    "##### categorizing the rating column for easy of prediction"
   ]
  },
  {
   "cell_type": "code",
   "execution_count": null,
   "metadata": {},
   "outputs": [],
   "source": [
    "#apply where \n",
    "Doc[\"Rating\"] = np.where(Doc[\"Rating\"]<90,0, Doc[\"Rating\"])\n",
    "Doc[\"Rating\"] = np.where(Doc[\"Rating\"]>=90,1, Doc[\"Rating\"])\n"
   ]
  },
  {
   "cell_type": "markdown",
   "metadata": {},
   "source": [
    "- check the column for unique values"
   ]
  },
  {
   "cell_type": "code",
   "execution_count": null,
   "metadata": {},
   "outputs": [],
   "source": [
    "#apply unique for series\n",
    "Doc[\"Rating\"].unique()"
   ]
  },
  {
   "cell_type": "code",
   "execution_count": null,
   "metadata": {},
   "outputs": [],
   "source": [
    "#comments seems to be inapproriate for the prediction\n",
    "Doc = Doc.drop(\"comments\", axis=1)"
   ]
  },
  {
   "cell_type": "code",
   "execution_count": null,
   "metadata": {},
   "outputs": [],
   "source": [
    "Doc.head()"
   ]
  },
  {
   "cell_type": "code",
   "execution_count": null,
   "metadata": {},
   "outputs": [],
   "source": [
    "Doc[\"Experience\"].unique()"
   ]
  },
  {
   "cell_type": "code",
   "execution_count": null,
   "metadata": {},
   "outputs": [],
   "source": [
    "Doc[\"Experience\"] = np.where(Doc[\"Experience\"]<=25,0, Doc[\"Experience\"])\n",
    "Doc[\"Experience\"] = np.where(Doc[\"Experience\"]>25,1, Doc[\"Experience\"])"
   ]
  },
  {
   "cell_type": "code",
   "execution_count": null,
   "metadata": {},
   "outputs": [],
   "source": [
    "Doc"
   ]
  },
  {
   "cell_type": "markdown",
   "metadata": {},
   "source": [
    "- The Label Encoding and One hot encoding is applied and the data is ready for next step"
   ]
  },
  {
   "cell_type": "code",
   "execution_count": null,
   "metadata": {},
   "outputs": [],
   "source": [
    "Doc.shape"
   ]
  },
  {
   "cell_type": "markdown",
   "metadata": {},
   "source": [
    "### There are 5852 records and 18 columns"
   ]
  },
  {
   "cell_type": "code",
   "execution_count": null,
   "metadata": {},
   "outputs": [],
   "source": [
    "Doc.describe()"
   ]
  },
  {
   "cell_type": "markdown",
   "metadata": {},
   "source": [
    "- Huge difference between mean and standard deviation\n",
    "- Huge difference in range"
   ]
  },
  {
   "cell_type": "code",
   "execution_count": null,
   "metadata": {},
   "outputs": [],
   "source": [
    "correlation = Doc.corr()\n",
    "plt.figure(figsize = [15,10])\n",
    "sns.heatmap(correlation, annot=True)\n",
    "plt.title(\"Correlation Matric Doctor fees prediction\")\n",
    "plt.show()"
   ]
  },
  {
   "cell_type": "code",
   "execution_count": null,
   "metadata": {},
   "outputs": [],
   "source": [
    "Doc.shape"
   ]
  },
  {
   "cell_type": "markdown",
   "metadata": {},
   "source": [
    "### There are 5852 records and 18 columns"
   ]
  },
  {
   "cell_type": "markdown",
   "metadata": {},
   "source": [
    "# Check for Skewness and removal"
   ]
  },
  {
   "cell_type": "markdown",
   "metadata": {},
   "source": [
    "- Note:  All the independent variables are of categorical data type hence the skewness will not be involved."
   ]
  },
  {
   "cell_type": "markdown",
   "metadata": {},
   "source": [
    "# Check for Outlier and Removal"
   ]
  },
  {
   "cell_type": "code",
   "execution_count": null,
   "metadata": {},
   "outputs": [],
   "source": [
    "#plot boxplot\n",
    "Doc.boxplot(figsize = [25,15])"
   ]
  },
  {
   "cell_type": "markdown",
   "metadata": {},
   "source": [
    "##### no outliers"
   ]
  },
  {
   "cell_type": "code",
   "execution_count": null,
   "metadata": {},
   "outputs": [],
   "source": [
    "Doc.dtypes"
   ]
  },
  {
   "cell_type": "code",
   "execution_count": null,
   "metadata": {},
   "outputs": [],
   "source": [
    "#scaling standardize the model thus the prediction come out with accuracy\n",
    "from sklearn.preprocessing import StandardScaler\n",
    "\n",
    "scale = StandardScaler()\n",
    "\n",
    "Doc = scale.fit_transform(Doc)\n",
    "\n",
    "#scaled "
   ]
  },
  {
   "cell_type": "code",
   "execution_count": null,
   "metadata": {},
   "outputs": [],
   "source": [
    "import gzip, pickle\n",
    "with gzip.open(\"Doctorfeefinal.pklz\", 'rb') as ifp:\n",
    "    fees = pickle.load(ifp)"
   ]
  },
  {
   "cell_type": "code",
   "execution_count": null,
   "metadata": {},
   "outputs": [],
   "source": [
    "import joblib\n",
    "fee = joblib.load(\"Doctorfeefinal.pklz\")"
   ]
  },
  {
   "cell_type": "code",
   "execution_count": null,
   "metadata": {},
   "outputs": [],
   "source": [
    "fee"
   ]
  },
  {
   "cell_type": "code",
   "execution_count": null,
   "metadata": {},
   "outputs": [],
   "source": []
  }
 ],
 "metadata": {
  "kernelspec": {
   "display_name": "Python 3",
   "language": "python",
   "name": "python3"
  },
  "language_info": {
   "codemirror_mode": {
    "name": "ipython",
    "version": 3
   },
   "file_extension": ".py",
   "mimetype": "text/x-python",
   "name": "python",
   "nbconvert_exporter": "python",
   "pygments_lexer": "ipython3",
   "version": "3.8.3"
  }
 },
 "nbformat": 4,
 "nbformat_minor": 4
}
